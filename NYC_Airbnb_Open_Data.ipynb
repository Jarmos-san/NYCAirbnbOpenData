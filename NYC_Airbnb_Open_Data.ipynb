{
  "nbformat": 4,
  "nbformat_minor": 0,
  "metadata": {
    "colab": {
      "name": "NYC Airbnb Open Data",
      "provenance": [],
      "collapsed_sections": [
        "l9PvZU5K7xIA",
        "rsGBfvU0xY7-",
        "El7ZWQlBArKu",
        "Ey9-p9KdAym0",
        "n1-_tzHSA3_0",
        "mUDTVpicA9QD",
        "sKNq9LSgBDhR",
        "vjVigDRDBJy6",
        "w99oIik2BzdV"
      ],
      "authorship_tag": "ABX9TyOKqArJaM2y37cY46mIVjjp",
      "include_colab_link": true
    },
    "kernelspec": {
      "name": "python3",
      "display_name": "Python 3"
    }
  },
  "cells": [
    {
      "cell_type": "markdown",
      "metadata": {
        "id": "view-in-github",
        "colab_type": "text"
      },
      "source": [
        "<a href=\"https://colab.research.google.com/github/Jarmos-san/NYCAirbnbOpenData/blob/master/NYC_Airbnb_Open_Data.ipynb\" target=\"_parent\"><img src=\"https://colab.research.google.com/assets/colab-badge.svg\" alt=\"Open In Colab\"/></a>"
      ]
    },
    {
      "cell_type": "markdown",
      "metadata": {
        "id": "l9PvZU5K7xIA",
        "colab_type": "text"
      },
      "source": [
        "# [New York City Airbnb Open Data](https://www.kaggle.com/dgomonov/new-york-city-airbnb-open-data)\n",
        "\n",
        "---\n",
        "\n",
        "## Description\n",
        "\n",
        "This data file includes all needed information to find out more about hosts, geographical availability, necessary metrics to make predictions and draw conclusions.\n",
        "\n",
        "## Columns\n",
        "\n",
        "  - `id` - listing ID\n",
        "  - `name` - name of the listing\n",
        "  - `host_id` - host ID\n",
        "  - `host_name` - name of the host\n",
        "  - `neighbourhood_group` - location\n",
        "  - `neighbourhood` - area\n",
        "  - `latitude` - latitude coordinates\n",
        "  - `longitude` - longitude coordinates\n",
        "  - `room_type` - listing space type\n",
        "  - `price` - price in dollars\n",
        "  - `minimum_nights` - amount of nights minimum\n",
        "  - `number_of_reviews` - number of reviews\n",
        "  - `last_review` - latest review\n",
        "  - `reviews_per_month` - number of reviews per month\n",
        "  - `calculated_host_listings_count` - amount of listing per host\n",
        "  - `availability_365` - number of days when listing is available for booking"
      ]
    },
    {
      "cell_type": "markdown",
      "metadata": {
        "id": "kccgiZNWiWlG",
        "colab_type": "text"
      },
      "source": [
        "## Setting Up the Notebook"
      ]
    },
    {
      "cell_type": "code",
      "metadata": {
        "id": "p5MNqa7L37Mp",
        "colab_type": "code",
        "colab": {}
      },
      "source": [
        "# Install PyDrive into the Colab instance\n",
        "!pip install -U -q PyDrive\n",
        "\n",
        "# Import the required libraries from PyDrive \n",
        "from pydrive.auth import GoogleAuth\n",
        "from pydrive.drive import GoogleDrive\n",
        "from google.colab import auth\n",
        "from oauth2client.client import GoogleCredentials\n",
        "\n",
        "# Authenticate and create the PyDrive instance.\n",
        "auth.authenticate_user()\n",
        "gauth = GoogleAuth()\n",
        "gauth.credentials = GoogleCredentials.get_application_default()\n",
        "drive = GoogleDrive(gauth)\n",
        "\n",
        "# Get shareable link by right-clicking on the required file from GDrive\n",
        "shareableLink = 'https://drive.google.com/open?id=1KSGi2vXSEBgbsLQCjzRyh8YZvikuigR7'\n",
        "\n",
        "# Get a string of numbers\n",
        "_, id = shareableLink.split('=')\n",
        "\n",
        "# Create Pandas dataframe\n",
        "getID = drive.CreateFile({'id':id}) \n",
        "getID.GetContentFile('AB_NYC_2019.csv')"
      ],
      "execution_count": 0,
      "outputs": []
    },
    {
      "cell_type": "markdown",
      "metadata": {
        "id": "rsGBfvU0xY7-",
        "colab_type": "text"
      },
      "source": [
        "# Importing Libraries\n",
        "\n",
        "---\n",
        "\n",
        "- **Pandas** *v0.25.3*\n",
        "- **Seaborn** *v0.9.0*\n",
        "- **Missingno** *v0.4.2*"
      ]
    },
    {
      "cell_type": "code",
      "metadata": {
        "id": "qq4apYBrxm8s",
        "colab_type": "code",
        "outputId": "65b22dde-a582-4c6e-fd34-5a9ab6e6f2d5",
        "colab": {
          "base_uri": "https://localhost:8080/",
          "height": 90
        }
      },
      "source": [
        "# Importing the required libraries\n",
        "import pandas as pd\n",
        "import seaborn as sns\n",
        "import numpy as np\n",
        "import matplotlib.pyplot as plt\n",
        "import missingno\n",
        "\n",
        "# Checking library versions\n",
        "print(f'Pandas v{pd.__version__}')\n",
        "print(f'Seaborn v{sns.__version__}')\n",
        "print(f'Missingno v{missingno.__version__}')\n",
        "print(f'Numpy v{np.__version__}')\n",
        "\n",
        "%matplotlib inline\n",
        "sns.set(style='darkgrid')"
      ],
      "execution_count": 46,
      "outputs": [
        {
          "output_type": "stream",
          "text": [
            "Pandas v0.25.3\n",
            "Seaborn v0.9.0\n",
            "Missingno v0.4.2\n",
            "Numpy v1.17.5\n"
          ],
          "name": "stdout"
        }
      ]
    },
    {
      "cell_type": "markdown",
      "metadata": {
        "id": "msNamQhIylT8",
        "colab_type": "text"
      },
      "source": [
        "# Dataset Overview\n",
        "\n",
        "---\n",
        "\n",
        "## **Notes**\n",
        "\n",
        "- Looks like there are some trivial amount of `ListingName` & `HostName` values missings which can be deailt with quickly.\n",
        "- `LatestReview` & `ReviewsPerMonth` has 21% of the values missing which needs to be take care of.\n",
        "- `LatestReview` is supposed to be a `datetime` column but it shows up as an `object` so it's needs to be dealt with.\n",
        "- Not sure if missing values are a major problem in making visualizations.\n",
        "- Also it looks like **`Price($)` has a few lowest values as `0`** which seems a bit unusual because it's hihgly unlikely that an Airbnb apartment would be rented out for `$0`!\n",
        "\n",
        "## Reading Resources\n",
        "\n",
        "- [Missing Data & Imputation | Towards Data Science](https://towardsdatascience.com/missing-data-and-imputation-89e9889268c8)\n",
        "\n",
        "- [Imputation of Missing Values | Scikit-Learn](https://scikit-learn.org/stable/modules/impute.html)\n",
        "\n"
      ]
    },
    {
      "cell_type": "markdown",
      "metadata": {
        "id": "El7ZWQlBArKu",
        "colab_type": "text"
      },
      "source": [
        "## Load Dataset"
      ]
    },
    {
      "cell_type": "code",
      "metadata": {
        "id": "nf4MEhOwysPk",
        "colab_type": "code",
        "outputId": "6957b012-c41d-4c10-f8e5-fc2962f33a2b",
        "colab": {
          "base_uri": "https://localhost:8080/",
          "height": 54
        }
      },
      "source": [
        "# Load dataset and print the number of rows & columns\n",
        "data = pd.read_csv('AB_NYC_2019.csv')\n",
        "print(f'Number of rows in the dataset is {data.shape[0]}')\n",
        "print(f'Number of columns in the dataset is {data.shape[1]}')"
      ],
      "execution_count": 7,
      "outputs": [
        {
          "output_type": "stream",
          "text": [
            "Number of rows in the dataset is 48895\n",
            "Number of columns in the dataset is 16\n"
          ],
          "name": "stdout"
        }
      ]
    },
    {
      "cell_type": "markdown",
      "metadata": {
        "id": "Ey9-p9KdAym0",
        "colab_type": "text"
      },
      "source": [
        "## Check Column Names"
      ]
    },
    {
      "cell_type": "code",
      "metadata": {
        "id": "YIMHgOUmzpvw",
        "colab_type": "code",
        "outputId": "a2f19f4a-e860-4757-bde4-13991ca05d56",
        "colab": {
          "base_uri": "https://localhost:8080/",
          "height": 127
        }
      },
      "source": [
        "# Check the name of the columns\n",
        "data.columns"
      ],
      "execution_count": 8,
      "outputs": [
        {
          "output_type": "execute_result",
          "data": {
            "text/plain": [
              "Index(['id', 'name', 'host_id', 'host_name', 'neighbourhood_group',\n",
              "       'neighbourhood', 'latitude', 'longitude', 'room_type', 'price',\n",
              "       'minimum_nights', 'number_of_reviews', 'last_review',\n",
              "       'reviews_per_month', 'calculated_host_listings_count',\n",
              "       'availability_365'],\n",
              "      dtype='object')"
            ]
          },
          "metadata": {
            "tags": []
          },
          "execution_count": 8
        }
      ]
    },
    {
      "cell_type": "markdown",
      "metadata": {
        "id": "n1-_tzHSA3_0",
        "colab_type": "text"
      },
      "source": [
        "## Rename Columns"
      ]
    },
    {
      "cell_type": "code",
      "metadata": {
        "id": "ZgSerdTU0ILm",
        "colab_type": "code",
        "outputId": "ce50a013-3103-4355-8c95-b443fa6b7d68",
        "colab": {
          "base_uri": "https://localhost:8080/",
          "height": 521
        }
      },
      "source": [
        "# Rename the columns properly\n",
        "RenamedColumns = {'id':'ListingID', \n",
        "                  'name':'ListingName',\n",
        "                  'host_id':'HostID', \n",
        "                  'host_name': 'HostName',\n",
        "                  'neighbourhood_group': 'Location',\n",
        "                  'neighbourhood': 'Area',\n",
        "                  'latitude': 'Lattitude', \n",
        "                  'longitude': 'Longitude', \n",
        "                  'room_type': 'RoomType',\n",
        "                  'price': 'Price($)', \n",
        "                  'minimum_nights': 'MinimumNights', \n",
        "                  'number_of_reviews': 'NumberOfReviews',\n",
        "                  'last_review': 'LatestReview', \n",
        "                  'reviews_per_month': 'ReviewsPerMonth', \n",
        "                  'calculated_host_listings_count': 'ListingsPerHost',\n",
        "                  'availability_365': 'AnnualAvailability'}\n",
        "data.rename(RenamedColumns, axis=1, inplace=True)\n",
        "data.sample(5)"
      ],
      "execution_count": 9,
      "outputs": [
        {
          "output_type": "execute_result",
          "data": {
            "text/html": [
              "<div>\n",
              "<style scoped>\n",
              "    .dataframe tbody tr th:only-of-type {\n",
              "        vertical-align: middle;\n",
              "    }\n",
              "\n",
              "    .dataframe tbody tr th {\n",
              "        vertical-align: top;\n",
              "    }\n",
              "\n",
              "    .dataframe thead th {\n",
              "        text-align: right;\n",
              "    }\n",
              "</style>\n",
              "<table border=\"1\" class=\"dataframe\">\n",
              "  <thead>\n",
              "    <tr style=\"text-align: right;\">\n",
              "      <th></th>\n",
              "      <th>ListingID</th>\n",
              "      <th>ListingName</th>\n",
              "      <th>HostID</th>\n",
              "      <th>HostName</th>\n",
              "      <th>Location</th>\n",
              "      <th>Area</th>\n",
              "      <th>Lattitude</th>\n",
              "      <th>Longitude</th>\n",
              "      <th>RoomType</th>\n",
              "      <th>Price($)</th>\n",
              "      <th>MinimumNights</th>\n",
              "      <th>NumberOfReviews</th>\n",
              "      <th>LatestReview</th>\n",
              "      <th>ReviewsPerMonth</th>\n",
              "      <th>ListingsPerHost</th>\n",
              "      <th>AnnualAvailability</th>\n",
              "    </tr>\n",
              "  </thead>\n",
              "  <tbody>\n",
              "    <tr>\n",
              "      <th>22924</th>\n",
              "      <td>18569422</td>\n",
              "      <td>Private room in beautiful home in Crown Heights</td>\n",
              "      <td>35741929</td>\n",
              "      <td>Assol</td>\n",
              "      <td>Brooklyn</td>\n",
              "      <td>Crown Heights</td>\n",
              "      <td>40.67101</td>\n",
              "      <td>-73.94543</td>\n",
              "      <td>Private room</td>\n",
              "      <td>70</td>\n",
              "      <td>2</td>\n",
              "      <td>52</td>\n",
              "      <td>2018-11-05</td>\n",
              "      <td>1.99</td>\n",
              "      <td>2</td>\n",
              "      <td>0</td>\n",
              "    </tr>\n",
              "    <tr>\n",
              "      <th>25901</th>\n",
              "      <td>20692563</td>\n",
              "      <td>Greenwich Village Townhome with Private Garden!</td>\n",
              "      <td>147814925</td>\n",
              "      <td>Lloyd</td>\n",
              "      <td>Manhattan</td>\n",
              "      <td>Greenwich Village</td>\n",
              "      <td>40.73300</td>\n",
              "      <td>-73.99413</td>\n",
              "      <td>Entire home/apt</td>\n",
              "      <td>3900</td>\n",
              "      <td>30</td>\n",
              "      <td>7</td>\n",
              "      <td>2018-03-13</td>\n",
              "      <td>0.32</td>\n",
              "      <td>1</td>\n",
              "      <td>180</td>\n",
              "    </tr>\n",
              "    <tr>\n",
              "      <th>7328</th>\n",
              "      <td>5402632</td>\n",
              "      <td>Private BDR/BATH in Luxury Condo near Times Sq...</td>\n",
              "      <td>27927011</td>\n",
              "      <td>Ashley</td>\n",
              "      <td>Manhattan</td>\n",
              "      <td>Hell's Kitchen</td>\n",
              "      <td>40.75755</td>\n",
              "      <td>-73.99305</td>\n",
              "      <td>Private room</td>\n",
              "      <td>99</td>\n",
              "      <td>365</td>\n",
              "      <td>7</td>\n",
              "      <td>2018-03-08</td>\n",
              "      <td>0.14</td>\n",
              "      <td>1</td>\n",
              "      <td>337</td>\n",
              "    </tr>\n",
              "    <tr>\n",
              "      <th>13348</th>\n",
              "      <td>10031436</td>\n",
              "      <td>Spacious Sunny room in East Village</td>\n",
              "      <td>51499758</td>\n",
              "      <td>Sabra</td>\n",
              "      <td>Manhattan</td>\n",
              "      <td>Lower East Side</td>\n",
              "      <td>40.71686</td>\n",
              "      <td>-73.98346</td>\n",
              "      <td>Private room</td>\n",
              "      <td>90</td>\n",
              "      <td>4</td>\n",
              "      <td>0</td>\n",
              "      <td>NaN</td>\n",
              "      <td>NaN</td>\n",
              "      <td>1</td>\n",
              "      <td>0</td>\n",
              "    </tr>\n",
              "    <tr>\n",
              "      <th>4843</th>\n",
              "      <td>3445138</td>\n",
              "      <td>The Sunniest of Brooklyn Brownstones</td>\n",
              "      <td>17051201</td>\n",
              "      <td>G</td>\n",
              "      <td>Brooklyn</td>\n",
              "      <td>Park Slope</td>\n",
              "      <td>40.67224</td>\n",
              "      <td>-73.97837</td>\n",
              "      <td>Entire home/apt</td>\n",
              "      <td>495</td>\n",
              "      <td>3</td>\n",
              "      <td>15</td>\n",
              "      <td>2019-05-27</td>\n",
              "      <td>0.27</td>\n",
              "      <td>3</td>\n",
              "      <td>198</td>\n",
              "    </tr>\n",
              "  </tbody>\n",
              "</table>\n",
              "</div>"
            ],
            "text/plain": [
              "       ListingID  ... AnnualAvailability\n",
              "22924   18569422  ...                  0\n",
              "25901   20692563  ...                180\n",
              "7328     5402632  ...                337\n",
              "13348   10031436  ...                  0\n",
              "4843     3445138  ...                198\n",
              "\n",
              "[5 rows x 16 columns]"
            ]
          },
          "metadata": {
            "tags": []
          },
          "execution_count": 9
        }
      ]
    },
    {
      "cell_type": "markdown",
      "metadata": {
        "id": "mUDTVpicA9QD",
        "colab_type": "text"
      },
      "source": [
        "## Checking Data Statistics"
      ]
    },
    {
      "cell_type": "code",
      "metadata": {
        "id": "nZORZWNc79BN",
        "colab_type": "code",
        "outputId": "19efeff4-0c6b-4108-9eb8-5e35e8d67271",
        "colab": {
          "base_uri": "https://localhost:8080/",
          "height": 320
        }
      },
      "source": [
        "# Checking the statistical description of the dataset\n",
        "data.describe()"
      ],
      "execution_count": 10,
      "outputs": [
        {
          "output_type": "execute_result",
          "data": {
            "text/html": [
              "<div>\n",
              "<style scoped>\n",
              "    .dataframe tbody tr th:only-of-type {\n",
              "        vertical-align: middle;\n",
              "    }\n",
              "\n",
              "    .dataframe tbody tr th {\n",
              "        vertical-align: top;\n",
              "    }\n",
              "\n",
              "    .dataframe thead th {\n",
              "        text-align: right;\n",
              "    }\n",
              "</style>\n",
              "<table border=\"1\" class=\"dataframe\">\n",
              "  <thead>\n",
              "    <tr style=\"text-align: right;\">\n",
              "      <th></th>\n",
              "      <th>ListingID</th>\n",
              "      <th>HostID</th>\n",
              "      <th>Lattitude</th>\n",
              "      <th>Longitude</th>\n",
              "      <th>Price($)</th>\n",
              "      <th>MinimumNights</th>\n",
              "      <th>NumberOfReviews</th>\n",
              "      <th>ReviewsPerMonth</th>\n",
              "      <th>ListingsPerHost</th>\n",
              "      <th>AnnualAvailability</th>\n",
              "    </tr>\n",
              "  </thead>\n",
              "  <tbody>\n",
              "    <tr>\n",
              "      <th>count</th>\n",
              "      <td>4.889500e+04</td>\n",
              "      <td>4.889500e+04</td>\n",
              "      <td>48895.000000</td>\n",
              "      <td>48895.000000</td>\n",
              "      <td>48895.000000</td>\n",
              "      <td>48895.000000</td>\n",
              "      <td>48895.000000</td>\n",
              "      <td>38843.000000</td>\n",
              "      <td>48895.000000</td>\n",
              "      <td>48895.000000</td>\n",
              "    </tr>\n",
              "    <tr>\n",
              "      <th>mean</th>\n",
              "      <td>1.901714e+07</td>\n",
              "      <td>6.762001e+07</td>\n",
              "      <td>40.728949</td>\n",
              "      <td>-73.952170</td>\n",
              "      <td>152.720687</td>\n",
              "      <td>7.029962</td>\n",
              "      <td>23.274466</td>\n",
              "      <td>1.373221</td>\n",
              "      <td>7.143982</td>\n",
              "      <td>112.781327</td>\n",
              "    </tr>\n",
              "    <tr>\n",
              "      <th>std</th>\n",
              "      <td>1.098311e+07</td>\n",
              "      <td>7.861097e+07</td>\n",
              "      <td>0.054530</td>\n",
              "      <td>0.046157</td>\n",
              "      <td>240.154170</td>\n",
              "      <td>20.510550</td>\n",
              "      <td>44.550582</td>\n",
              "      <td>1.680442</td>\n",
              "      <td>32.952519</td>\n",
              "      <td>131.622289</td>\n",
              "    </tr>\n",
              "    <tr>\n",
              "      <th>min</th>\n",
              "      <td>2.539000e+03</td>\n",
              "      <td>2.438000e+03</td>\n",
              "      <td>40.499790</td>\n",
              "      <td>-74.244420</td>\n",
              "      <td>0.000000</td>\n",
              "      <td>1.000000</td>\n",
              "      <td>0.000000</td>\n",
              "      <td>0.010000</td>\n",
              "      <td>1.000000</td>\n",
              "      <td>0.000000</td>\n",
              "    </tr>\n",
              "    <tr>\n",
              "      <th>25%</th>\n",
              "      <td>9.471945e+06</td>\n",
              "      <td>7.822033e+06</td>\n",
              "      <td>40.690100</td>\n",
              "      <td>-73.983070</td>\n",
              "      <td>69.000000</td>\n",
              "      <td>1.000000</td>\n",
              "      <td>1.000000</td>\n",
              "      <td>0.190000</td>\n",
              "      <td>1.000000</td>\n",
              "      <td>0.000000</td>\n",
              "    </tr>\n",
              "    <tr>\n",
              "      <th>50%</th>\n",
              "      <td>1.967728e+07</td>\n",
              "      <td>3.079382e+07</td>\n",
              "      <td>40.723070</td>\n",
              "      <td>-73.955680</td>\n",
              "      <td>106.000000</td>\n",
              "      <td>3.000000</td>\n",
              "      <td>5.000000</td>\n",
              "      <td>0.720000</td>\n",
              "      <td>1.000000</td>\n",
              "      <td>45.000000</td>\n",
              "    </tr>\n",
              "    <tr>\n",
              "      <th>75%</th>\n",
              "      <td>2.915218e+07</td>\n",
              "      <td>1.074344e+08</td>\n",
              "      <td>40.763115</td>\n",
              "      <td>-73.936275</td>\n",
              "      <td>175.000000</td>\n",
              "      <td>5.000000</td>\n",
              "      <td>24.000000</td>\n",
              "      <td>2.020000</td>\n",
              "      <td>2.000000</td>\n",
              "      <td>227.000000</td>\n",
              "    </tr>\n",
              "    <tr>\n",
              "      <th>max</th>\n",
              "      <td>3.648724e+07</td>\n",
              "      <td>2.743213e+08</td>\n",
              "      <td>40.913060</td>\n",
              "      <td>-73.712990</td>\n",
              "      <td>10000.000000</td>\n",
              "      <td>1250.000000</td>\n",
              "      <td>629.000000</td>\n",
              "      <td>58.500000</td>\n",
              "      <td>327.000000</td>\n",
              "      <td>365.000000</td>\n",
              "    </tr>\n",
              "  </tbody>\n",
              "</table>\n",
              "</div>"
            ],
            "text/plain": [
              "          ListingID        HostID  ...  ListingsPerHost  AnnualAvailability\n",
              "count  4.889500e+04  4.889500e+04  ...     48895.000000        48895.000000\n",
              "mean   1.901714e+07  6.762001e+07  ...         7.143982          112.781327\n",
              "std    1.098311e+07  7.861097e+07  ...        32.952519          131.622289\n",
              "min    2.539000e+03  2.438000e+03  ...         1.000000            0.000000\n",
              "25%    9.471945e+06  7.822033e+06  ...         1.000000            0.000000\n",
              "50%    1.967728e+07  3.079382e+07  ...         1.000000           45.000000\n",
              "75%    2.915218e+07  1.074344e+08  ...         2.000000          227.000000\n",
              "max    3.648724e+07  2.743213e+08  ...       327.000000          365.000000\n",
              "\n",
              "[8 rows x 10 columns]"
            ]
          },
          "metadata": {
            "tags": []
          },
          "execution_count": 10
        }
      ]
    },
    {
      "cell_type": "markdown",
      "metadata": {
        "id": "T2eel-zCE7cy",
        "colab_type": "text"
      },
      "source": [
        "## Checking for Categorical Values"
      ]
    },
    {
      "cell_type": "code",
      "metadata": {
        "id": "oly5EdkhKxCw",
        "colab_type": "code",
        "colab": {}
      },
      "source": [
        "def checkUniqueValues(columnName):\n",
        "  list(columnName.unique())"
      ],
      "execution_count": 0,
      "outputs": []
    },
    {
      "cell_type": "markdown",
      "metadata": {
        "id": "sKNq9LSgBDhR",
        "colab_type": "text"
      },
      "source": [
        "## Rough Look At Missing Values"
      ]
    },
    {
      "cell_type": "code",
      "metadata": {
        "id": "4GTs2vdk8QEU",
        "colab_type": "code",
        "outputId": "ed002791-9472-4f2f-90e7-a95d77b9c7f4",
        "colab": {
          "base_uri": "https://localhost:8080/",
          "height": 675
        }
      },
      "source": [
        "# Graphical overview of the missing values\n",
        "missingno.matrix(data, figsize=(18,9))"
      ],
      "execution_count": 11,
      "outputs": [
        {
          "output_type": "execute_result",
          "data": {
            "text/plain": [
              "<matplotlib.axes._subplots.AxesSubplot at 0x7f75007abf28>"
            ]
          },
          "metadata": {
            "tags": []
          },
          "execution_count": 11
        },
        {
          "output_type": "display_data",
          "data": {
            "image/png": "[encoded data removed]",
            "text/plain": [
              "<Figure size 1296x648 with 2 Axes>"
            ]
          },
          "metadata": {
            "tags": []
          }
        }
      ]
    },
    {
      "cell_type": "markdown",
      "metadata": {
        "id": "vjVigDRDBJy6",
        "colab_type": "text"
      },
      "source": [
        "## Checking the Exact Amount of Missing Values"
      ]
    },
    {
      "cell_type": "code",
      "metadata": {
        "id": "GeJha52r_pMw",
        "colab_type": "code",
        "outputId": "6e6bdd19-8648-42e8-f43e-6308067a3ae0",
        "colab": {
          "base_uri": "https://localhost:8080/",
          "height": 90
        }
      },
      "source": [
        "# Checking the number of null values in the whole dataset\n",
        "totalNullValues = data.isna().sum()\n",
        "for index, value in totalNullValues.items():\n",
        "  if value > 0.00000000001:\n",
        "    print(f'{index}: {value}')"
      ],
      "execution_count": 12,
      "outputs": [
        {
          "output_type": "stream",
          "text": [
            "ListingName: 16\n",
            "HostName: 21\n",
            "LatestReview: 10052\n",
            "ReviewsPerMonth: 10052\n"
          ],
          "name": "stdout"
        }
      ]
    },
    {
      "cell_type": "code",
      "metadata": {
        "id": "j1Aac3Kt8nVZ",
        "colab_type": "code",
        "outputId": "b404c43d-81f1-42c5-eccb-e6b7d8c36474",
        "colab": {
          "base_uri": "https://localhost:8080/",
          "height": 54
        }
      },
      "source": [
        "# Checking the number of missing values in percentage.\n",
        "nullValuePercent = round(data.isna().sum()/data.shape[0]*100)\n",
        "for index, value in nullValuePercent.items():\n",
        "  if value > 0:\n",
        "    print(f'{index}: {value}%')"
      ],
      "execution_count": 13,
      "outputs": [
        {
          "output_type": "stream",
          "text": [
            "LatestReview: 21.0%\n",
            "ReviewsPerMonth: 21.0%\n"
          ],
          "name": "stdout"
        }
      ]
    },
    {
      "cell_type": "markdown",
      "metadata": {
        "id": "w99oIik2BzdV",
        "colab_type": "text"
      },
      "source": [
        "## Checking the Datatypes"
      ]
    },
    {
      "cell_type": "code",
      "metadata": {
        "id": "L_bGORYIAts3",
        "colab_type": "code",
        "outputId": "23c170f2-18e5-4178-b8fa-85ebd0af441a",
        "colab": {
          "base_uri": "https://localhost:8080/",
          "height": 329
        }
      },
      "source": [
        "# Checking the data type of the values in each column\n",
        "data.dtypes"
      ],
      "execution_count": 14,
      "outputs": [
        {
          "output_type": "execute_result",
          "data": {
            "text/plain": [
              "ListingID               int64\n",
              "ListingName            object\n",
              "HostID                  int64\n",
              "HostName               object\n",
              "Location               object\n",
              "Area                   object\n",
              "Lattitude             float64\n",
              "Longitude             float64\n",
              "RoomType               object\n",
              "Price($)                int64\n",
              "MinimumNights           int64\n",
              "NumberOfReviews         int64\n",
              "LatestReview           object\n",
              "ReviewsPerMonth       float64\n",
              "ListingsPerHost         int64\n",
              "AnnualAvailability      int64\n",
              "dtype: object"
            ]
          },
          "metadata": {
            "tags": []
          },
          "execution_count": 14
        }
      ]
    },
    {
      "cell_type": "markdown",
      "metadata": {
        "id": "IUKDCbtdE8LS",
        "colab_type": "text"
      },
      "source": [
        "# Data Visualizations\n",
        "\n",
        "- [Introduction to Geospatial Dat in Python | Datacamp](https://www.datacamp.com/community/tutorials/geospatial-data-python)\n",
        "- [Python Seaborn Tutorial For Beginners](https://www.datacamp.com/community/tutorials/seaborn-python-tutorial)\n"
      ]
    },
    {
      "cell_type": "code",
      "metadata": {
        "id": "XBjoS3WkB70u",
        "colab_type": "code",
        "outputId": "c444e842-b3f0-4436-a98b-ec9f009d7116",
        "colab": {
          "base_uri": "https://localhost:8080/",
          "height": 135
        }
      },
      "source": [
        "data.sample(1)"
      ],
      "execution_count": 16,
      "outputs": [
        {
          "output_type": "execute_result",
          "data": {
            "text/html": [
              "<div>\n",
              "<style scoped>\n",
              "    .dataframe tbody tr th:only-of-type {\n",
              "        vertical-align: middle;\n",
              "    }\n",
              "\n",
              "    .dataframe tbody tr th {\n",
              "        vertical-align: top;\n",
              "    }\n",
              "\n",
              "    .dataframe thead th {\n",
              "        text-align: right;\n",
              "    }\n",
              "</style>\n",
              "<table border=\"1\" class=\"dataframe\">\n",
              "  <thead>\n",
              "    <tr style=\"text-align: right;\">\n",
              "      <th></th>\n",
              "      <th>ListingID</th>\n",
              "      <th>ListingName</th>\n",
              "      <th>HostID</th>\n",
              "      <th>HostName</th>\n",
              "      <th>Location</th>\n",
              "      <th>Area</th>\n",
              "      <th>Lattitude</th>\n",
              "      <th>Longitude</th>\n",
              "      <th>RoomType</th>\n",
              "      <th>Price($)</th>\n",
              "      <th>MinimumNights</th>\n",
              "      <th>NumberOfReviews</th>\n",
              "      <th>LatestReview</th>\n",
              "      <th>ReviewsPerMonth</th>\n",
              "      <th>ListingsPerHost</th>\n",
              "      <th>AnnualAvailability</th>\n",
              "    </tr>\n",
              "  </thead>\n",
              "  <tbody>\n",
              "    <tr>\n",
              "      <th>6061</th>\n",
              "      <td>4438029</td>\n",
              "      <td>Chelsea High End Apartment</td>\n",
              "      <td>974868</td>\n",
              "      <td>Jackie</td>\n",
              "      <td>Manhattan</td>\n",
              "      <td>Chelsea</td>\n",
              "      <td>40.74635</td>\n",
              "      <td>-73.99604</td>\n",
              "      <td>Entire home/apt</td>\n",
              "      <td>360</td>\n",
              "      <td>3</td>\n",
              "      <td>28</td>\n",
              "      <td>2019-04-22</td>\n",
              "      <td>0.5</td>\n",
              "      <td>1</td>\n",
              "      <td>128</td>\n",
              "    </tr>\n",
              "  </tbody>\n",
              "</table>\n",
              "</div>"
            ],
            "text/plain": [
              "      ListingID  ... AnnualAvailability\n",
              "6061    4438029  ...                128\n",
              "\n",
              "[1 rows x 16 columns]"
            ]
          },
          "metadata": {
            "tags": []
          },
          "execution_count": 16
        }
      ]
    },
    {
      "cell_type": "code",
      "metadata": {
        "id": "S6eZ8_il0D3B",
        "colab_type": "code",
        "colab": {
          "base_uri": "https://localhost:8080/",
          "height": 54
        },
        "outputId": "9e98ae43-1258-480b-bada-d3471a2010fe"
      },
      "source": [
        "print(list(data['RoomType'].unique()))\n",
        "print(list(data['Location'].unique()))"
      ],
      "execution_count": 58,
      "outputs": [
        {
          "output_type": "stream",
          "text": [
            "['Private room', 'Entire home/apt', 'Shared room']\n",
            "['Brooklyn', 'Manhattan', 'Queens', 'Staten Island', 'Bronx']\n"
          ],
          "name": "stdout"
        }
      ]
    },
    {
      "cell_type": "code",
      "metadata": {
        "id": "KHgCMKh-JSqN",
        "colab_type": "code",
        "outputId": "6a982b08-e8f6-4ed7-8097-08b5d1dfa370",
        "colab": {
          "base_uri": "https://localhost:8080/",
          "height": 575
        }
      },
      "source": [
        "plt.figure(figsize=(15,9))\n",
        "sns.barplot(x='Location', y='Price($)', data=data)\n",
        "# plt.savefig('PricesPerLocation.png')"
      ],
      "execution_count": 51,
      "outputs": [
        {
          "output_type": "execute_result",
          "data": {
            "text/plain": [
              "<matplotlib.axes._subplots.AxesSubplot at 0x7f74f8095f98>"
            ]
          },
          "metadata": {
            "tags": []
          },
          "execution_count": 51
        },
        {
          "output_type": "display_data",
          "data": {
            "image/png": "[encoded data removed]",
            "text/plain": [
              "<Figure size 1080x648 with 1 Axes>"
            ]
          },
          "metadata": {
            "tags": []
          }
        }
      ]
    },
    {
      "cell_type": "code",
      "metadata": {
        "id": "P-9K4LUtwdFs",
        "colab_type": "code",
        "outputId": "2426254c-e413-4df2-f386-4e566cfd12de",
        "colab": {
          "base_uri": "https://localhost:8080/",
          "height": 237
        }
      },
      "source": [
        "data['Coordinates'] = data.loc[0:, 'Lattitude':'Longitude'].values.tolist()\n",
        "data['Coordinates']"
      ],
      "execution_count": 0,
      "outputs": [
        {
          "output_type": "execute_result",
          "data": {
            "text/plain": [
              "0        [40.647490000000005, -73.97237]\n",
              "1         [40.75362, -73.98376999999999]\n",
              "2         [40.809020000000004, -73.9419]\n",
              "3        [40.685140000000004, -73.95976]\n",
              "4                  [40.79851, -73.94399]\n",
              "                      ...               \n",
              "38950     [40.80155, -73.96498000000001]\n",
              "38951              [40.67904, -73.94837]\n",
              "38952              [40.74772, -73.99146]\n",
              "38953    [40.728770000000004, -73.98249]\n",
              "38954                        [40.0, nan]\n",
              "Name: Coordinates, Length: 38955, dtype: object"
            ]
          },
          "metadata": {
            "tags": []
          },
          "execution_count": 44
        }
      ]
    },
    {
      "cell_type": "markdown",
      "metadata": {
        "id": "aEScyEh_pobB",
        "colab_type": "text"
      },
      "source": [
        "# TODO\n",
        "\n",
        "- Read up on Python functions **(IMPORTANT)**\n",
        "- Make datasets load dynamically from GDrive according to the mimetypes.\n",
        "- ~Change Seaborn graph sizes.~\n",
        "- Create a function to make categorical variables, graphs, etc dynamically."
      ]
    }
  ]
}