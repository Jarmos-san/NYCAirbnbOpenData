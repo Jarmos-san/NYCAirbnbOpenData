{
  "nbformat": 4,
  "nbformat_minor": 0,
  "metadata": {
    "colab": {
      "name": "NYC Airbnb Open Data",
      "provenance": [],
      "collapsed_sections": [
        "l9PvZU5K7xIA",
        "rsGBfvU0xY7-",
        "El7ZWQlBArKu",
        "Ey9-p9KdAym0",
        "n1-_tzHSA3_0",
        "mUDTVpicA9QD",
        "sKNq9LSgBDhR",
        "vjVigDRDBJy6",
        "w99oIik2BzdV"
      ],
      "authorship_tag": "ABX9TyNOf7l1EW9JsF1t1iwWNx31",
      "include_colab_link": true
    },
    "kernelspec": {
      "name": "python3",
      "display_name": "Python 3"
    }
  },
  "cells": [
    {
      "cell_type": "markdown",
      "metadata": {
        "id": "view-in-github",
        "colab_type": "text"
      },
      "source": [
        "<a href=\"https://colab.research.google.com/github/Jarmos-san/NYCAirbnbOpenData/blob/master/NYC_Airbnb_Open_Data.ipynb\" target=\"_parent\"><img src=\"https://colab.research.google.com/assets/colab-badge.svg\" alt=\"Open In Colab\"/></a>"
      ]
    },
    {
      "cell_type": "markdown",
      "metadata": {
        "id": "l9PvZU5K7xIA",
        "colab_type": "text"
      },
      "source": [
        "# [New York City Airbnb Open Data](https://www.kaggle.com/dgomonov/new-york-city-airbnb-open-data)\n",
        "\n",
        "---\n",
        "\n",
        "## Description\n",
        "\n",
        "This data file includes all needed information to find out more about hosts, geographical availability, necessary metrics to make predictions and draw conclusions.\n",
        "\n",
        "## Columns\n",
        "\n",
        "  - `id` - listing ID\n",
        "  - `name` - name of the listing\n",
        "  - `host_id` - host ID\n",
        "  - `host_name` - name of the host\n",
        "  - `neighbourhood_group` - location\n",
        "  - `neighbourhood` - area\n",
        "  - `latitude` - latitude coordinates\n",
        "  - `longitude` - longitude coordinates\n",
        "  - `room_type` - listing space type\n",
        "  - `price` - price in dollars\n",
        "  - `minimum_nights` - amount of nights minimum\n",
        "  - `number_of_reviews` - number of reviews\n",
        "  - `last_review` - latest review\n",
        "  - `reviews_per_month` - number of reviews per month\n",
        "  - `calculated_host_listings_count` - amount of listing per host\n",
        "  - `availability_365` - number of days when listing is available for booking"
      ]
    },
    {
      "cell_type": "markdown",
      "metadata": {
        "id": "kccgiZNWiWlG",
        "colab_type": "text"
      },
      "source": [
        "## Setting Up the Notebook"
      ]
    },
    {
      "cell_type": "code",
      "metadata": {
        "id": "p5MNqa7L37Mp",
        "colab_type": "code",
        "colab": {}
      },
      "source": [
        "# Install PyDrive into the Colab instance\n",
        "!pip install -U -q PyDrive\n",
        "\n",
        "# Import the required libraries from PyDrive \n",
        "from pydrive.auth import GoogleAuth\n",
        "from pydrive.drive import GoogleDrive\n",
        "from google.colab import auth\n",
        "from oauth2client.client import GoogleCredentials\n",
        "\n",
        "# Authenticate and create the PyDrive instance.\n",
        "auth.authenticate_user()\n",
        "gauth = GoogleAuth()\n",
        "gauth.credentials = GoogleCredentials.get_application_default()\n",
        "drive = GoogleDrive(gauth)\n",
        "\n",
        "# Get shareable link by right-clicking on the required file from GDrive\n",
        "shareableLink = 'https://drive.google.com/open?id=1KSGi2vXSEBgbsLQCjzRyh8YZvikuigR7'\n",
        "\n",
        "# Get a string of numbers\n",
        "_, id = shareableLink.split('=')\n",
        "\n",
        "# Create Pandas dataframe\n",
        "getID = drive.CreateFile({'id':id}) \n",
        "getID.GetContentFile('AB_NYC_2019.csv')"
      ],
      "execution_count": 0,
      "outputs": []
    },
    {
      "cell_type": "markdown",
      "metadata": {
        "id": "rsGBfvU0xY7-",
        "colab_type": "text"
      },
      "source": [
        "# Importing Libraries\n",
        "\n",
        "---\n",
        "\n",
        "- **Pandas** *v0.25.3*\n",
        "- **Seaborn** *v0.9.0*\n",
        "- **Missingno** *v0.4.2*\n",
        "- **Numpy** *v1.17.5*"
      ]
    },
    {
      "cell_type": "code",
      "metadata": {
        "id": "qq4apYBrxm8s",
        "colab_type": "code",
        "outputId": "4196cb0d-24df-4b71-a868-d82352f20623",
        "colab": {
          "base_uri": "https://localhost:8080/",
          "height": 90
        }
      },
      "source": [
        "# Importing the required libraries\n",
        "import pandas as pd\n",
        "import seaborn as sns\n",
        "import numpy as np\n",
        "import matplotlib.pyplot as plt\n",
        "import missingno\n",
        "\n",
        "# import sklearn\n",
        "# from sklearn.impute import SimpleImputer\n",
        "\n",
        "# Checking library versions\n",
        "print(f'Pandas v{pd.__version__}')\n",
        "print(f'Seaborn v{sns.__version__}')\n",
        "print(f'Missingno v{missingno.__version__}')\n",
        "print(f'Numpy v{np.__version__}')\n",
        "# print(f'Sklearn v{sklearn.__version__}')\n",
        "\n",
        "%matplotlib inline\n",
        "sns.set(style='darkgrid')"
      ],
      "execution_count": 43,
      "outputs": [
        {
          "output_type": "stream",
          "text": [
            "Pandas v0.25.3\n",
            "Seaborn v0.9.0\n",
            "Missingno v0.4.2\n",
            "Numpy v1.17.5\n"
          ],
          "name": "stdout"
        }
      ]
    },
    {
      "cell_type": "markdown",
      "metadata": {
        "id": "msNamQhIylT8",
        "colab_type": "text"
      },
      "source": [
        "# Dataset Overview\n",
        "\n",
        "---\n",
        "\n",
        "## **Notes**\n",
        "\n",
        "- Looks like there are some trivial amount of `ListingName` & `HostName` values missings which can be deailt with quickly.\n",
        "- `LatestReview` & `ReviewsPerMonth` has 21% of the values missing which needs to be take care of.\n",
        "- `LatestReview` is supposed to be a `datetime` column but it shows up as an `object` so it's needs to be dealt with.\n",
        "- **Not sure if missing values are a major problem in making visualizations.**\n",
        "- ~Also it looks like **`Price($)` has a few lowest values as `0`** which seems a bit unusual because it's hihgly unlikely that an Airbnb apartment would be rented out for `$0`!~ ***Doesn't seem so from the visualizations***\n",
        "- `RoomType` & `Location` are Catergorical Variables.\n",
        "\n",
        "## Reading Resources\n",
        "\n",
        "1. **Python Functions**\n",
        "  - [Python Functions](https://python-course.eu/python3_functions.php)\n",
        "  - [Recursive Functions](https://python-course.eu/python3_recursive_functions.php)\n",
        "  - [Passing Arguments to Python Functions](https://python-course.eu/python3_recursive_functions.php)\n",
        "2. **Handling Missing Values**\n",
        "  - [Missing Data & Imputation | Towards Data Science](https://towardsdatascience.com/missing-data-and-imputation-89e9889268c8)\n",
        "  - [Imputation of Missing Values | Scikit-Learn](https://scikit-learn.org/stable/modules/impute.html)\n",
        "3. **Pandas `groupby` and `agg` Functions**\n",
        "  - [Summarising, Aggregating & Grouping Data In Python Pandas](https://www.shanelynn.ie/summarising-aggregation-and-grouping-data-in-python-pandas/)\n",
        "  - [Aggregation & Grouping | Python Data Science Handbook](https://colab.research.google.com/github/jakevdp/PythonDataScienceHandbook/blob/master/notebooks/03.08-Aggregation-and-Grouping.ipynb)\n",
        "4. **Seaborn Tutorials**\n",
        "  - [Introduction to Geospatial Dat in Python | Datacamp](https://www.datacamp.com/community/tutorials/geospatial-data-python)\n",
        "  - [Python Seaborn Tutorial For Beginners](https://www.datacamp.com/community/tutorials/seaborn-python-tutorial)"
      ]
    },
    {
      "cell_type": "markdown",
      "metadata": {
        "id": "El7ZWQlBArKu",
        "colab_type": "text"
      },
      "source": [
        "## Load Dataset"
      ]
    },
    {
      "cell_type": "code",
      "metadata": {
        "id": "nf4MEhOwysPk",
        "colab_type": "code",
        "outputId": "018e7382-3315-4524-f2c4-2d7c9d4b6df5",
        "colab": {
          "base_uri": "https://localhost:8080/",
          "height": 54
        }
      },
      "source": [
        "# Load dataset and print the number of rows & columns\n",
        "data = pd.read_csv('AB_NYC_2019.csv')\n",
        "print(f'Number of rows in the dataset is {data.shape[0]}')\n",
        "print(f'Number of columns in the dataset is {data.shape[1]}')"
      ],
      "execution_count": 4,
      "outputs": [
        {
          "output_type": "stream",
          "text": [
            "Number of rows in the dataset is 48895\n",
            "Number of columns in the dataset is 16\n"
          ],
          "name": "stdout"
        }
      ]
    },
    {
      "cell_type": "markdown",
      "metadata": {
        "id": "Ey9-p9KdAym0",
        "colab_type": "text"
      },
      "source": [
        "## Check Column Names"
      ]
    },
    {
      "cell_type": "code",
      "metadata": {
        "id": "YIMHgOUmzpvw",
        "colab_type": "code",
        "outputId": "e9b8f3d5-426c-4c84-e6dd-aadd9af02aa2",
        "colab": {
          "base_uri": "https://localhost:8080/",
          "height": 0
        }
      },
      "source": [
        "# Check the name of the columns\n",
        "data.columns"
      ],
      "execution_count": 5,
      "outputs": [
        {
          "output_type": "execute_result",
          "data": {
            "text/plain": [
              "Index(['id', 'name', 'host_id', 'host_name', 'neighbourhood_group',\n",
              "       'neighbourhood', 'latitude', 'longitude', 'room_type', 'price',\n",
              "       'minimum_nights', 'number_of_reviews', 'last_review',\n",
              "       'reviews_per_month', 'calculated_host_listings_count',\n",
              "       'availability_365'],\n",
              "      dtype='object')"
            ]
          },
          "metadata": {
            "tags": []
          },
          "execution_count": 5
        }
      ]
    },
    {
      "cell_type": "markdown",
      "metadata": {
        "id": "n1-_tzHSA3_0",
        "colab_type": "text"
      },
      "source": [
        "## Rename Columns"
      ]
    },
    {
      "cell_type": "code",
      "metadata": {
        "id": "ZgSerdTU0ILm",
        "colab_type": "code",
        "outputId": "18d9c077-82fb-4970-d41b-4fe4dba04368",
        "colab": {
          "base_uri": "https://localhost:8080/",
          "height": 0
        }
      },
      "source": [
        "# Rename the columns properly\n",
        "RenamedColumns = {'id':'ListingID', \n",
        "                  'name':'ListingName',\n",
        "                  'host_id':'HostID', \n",
        "                  'host_name': 'HostName',\n",
        "                  'neighbourhood_group': 'Location',\n",
        "                  'neighbourhood': 'Area',\n",
        "                  'latitude': 'Lattitude', \n",
        "                  'longitude': 'Longitude', \n",
        "                  'room_type': 'RoomType',\n",
        "                  'price': 'Price($)', \n",
        "                  'minimum_nights': 'MinimumNights', \n",
        "                  'number_of_reviews': 'NumberOfReviews',\n",
        "                  'last_review': 'LatestReview', \n",
        "                  'reviews_per_month': 'ReviewsPerMonth', \n",
        "                  'calculated_host_listings_count': 'ListingsPerHost',\n",
        "                  'availability_365': 'AnnualAvailability'}\n",
        "data.rename(RenamedColumns, axis=1, inplace=True)\n",
        "data.sample(5)"
      ],
      "execution_count": 6,
      "outputs": [
        {
          "output_type": "execute_result",
          "data": {
            "text/html": [
              "<div>\n",
              "<style scoped>\n",
              "    .dataframe tbody tr th:only-of-type {\n",
              "        vertical-align: middle;\n",
              "    }\n",
              "\n",
              "    .dataframe tbody tr th {\n",
              "        vertical-align: top;\n",
              "    }\n",
              "\n",
              "    .dataframe thead th {\n",
              "        text-align: right;\n",
              "    }\n",
              "</style>\n",
              "<table border=\"1\" class=\"dataframe\">\n",
              "  <thead>\n",
              "    <tr style=\"text-align: right;\">\n",
              "      <th></th>\n",
              "      <th>ListingID</th>\n",
              "      <th>ListingName</th>\n",
              "      <th>HostID</th>\n",
              "      <th>HostName</th>\n",
              "      <th>Location</th>\n",
              "      <th>Area</th>\n",
              "      <th>Lattitude</th>\n",
              "      <th>Longitude</th>\n",
              "      <th>RoomType</th>\n",
              "      <th>Price($)</th>\n",
              "      <th>MinimumNights</th>\n",
              "      <th>NumberOfReviews</th>\n",
              "      <th>LatestReview</th>\n",
              "      <th>ReviewsPerMonth</th>\n",
              "      <th>ListingsPerHost</th>\n",
              "      <th>AnnualAvailability</th>\n",
              "    </tr>\n",
              "  </thead>\n",
              "  <tbody>\n",
              "    <tr>\n",
              "      <th>13594</th>\n",
              "      <td>10166820</td>\n",
              "      <td>Brooklyn apartment 20 min to Manhattan</td>\n",
              "      <td>486147</td>\n",
              "      <td>Christopher</td>\n",
              "      <td>Brooklyn</td>\n",
              "      <td>Park Slope</td>\n",
              "      <td>40.67174</td>\n",
              "      <td>-73.98616</td>\n",
              "      <td>Private room</td>\n",
              "      <td>63</td>\n",
              "      <td>30</td>\n",
              "      <td>17</td>\n",
              "      <td>2018-09-01</td>\n",
              "      <td>0.44</td>\n",
              "      <td>1</td>\n",
              "      <td>73</td>\n",
              "    </tr>\n",
              "    <tr>\n",
              "      <th>19640</th>\n",
              "      <td>15726990</td>\n",
              "      <td>Two-bedroom in the heart of Chelsea</td>\n",
              "      <td>15600805</td>\n",
              "      <td>Nissim</td>\n",
              "      <td>Manhattan</td>\n",
              "      <td>Chelsea</td>\n",
              "      <td>40.73975</td>\n",
              "      <td>-73.99848</td>\n",
              "      <td>Entire home/apt</td>\n",
              "      <td>265</td>\n",
              "      <td>3</td>\n",
              "      <td>2</td>\n",
              "      <td>2016-11-27</td>\n",
              "      <td>0.06</td>\n",
              "      <td>1</td>\n",
              "      <td>0</td>\n",
              "    </tr>\n",
              "    <tr>\n",
              "      <th>14500</th>\n",
              "      <td>11419898</td>\n",
              "      <td>Doorman 1 bedroom Amazing Location 5151</td>\n",
              "      <td>16098958</td>\n",
              "      <td>Jeremy &amp; Laura</td>\n",
              "      <td>Manhattan</td>\n",
              "      <td>Financial District</td>\n",
              "      <td>40.70425</td>\n",
              "      <td>-74.00845</td>\n",
              "      <td>Entire home/apt</td>\n",
              "      <td>175</td>\n",
              "      <td>30</td>\n",
              "      <td>2</td>\n",
              "      <td>2016-05-07</td>\n",
              "      <td>0.05</td>\n",
              "      <td>96</td>\n",
              "      <td>312</td>\n",
              "    </tr>\n",
              "    <tr>\n",
              "      <th>36590</th>\n",
              "      <td>29094342</td>\n",
              "      <td>Near JFK air train nice spot</td>\n",
              "      <td>219262205</td>\n",
              "      <td>Tony</td>\n",
              "      <td>Queens</td>\n",
              "      <td>Jamaica</td>\n",
              "      <td>40.70094</td>\n",
              "      <td>-73.81446</td>\n",
              "      <td>Private room</td>\n",
              "      <td>60</td>\n",
              "      <td>1</td>\n",
              "      <td>37</td>\n",
              "      <td>2019-03-09</td>\n",
              "      <td>4.17</td>\n",
              "      <td>1</td>\n",
              "      <td>0</td>\n",
              "    </tr>\n",
              "    <tr>\n",
              "      <th>44753</th>\n",
              "      <td>34390645</td>\n",
              "      <td>\"In the Heights\" Love: 2 Queen beds. beautiful...</td>\n",
              "      <td>27973267</td>\n",
              "      <td>Gus</td>\n",
              "      <td>Manhattan</td>\n",
              "      <td>Washington Heights</td>\n",
              "      <td>40.85115</td>\n",
              "      <td>-73.93223</td>\n",
              "      <td>Private room</td>\n",
              "      <td>150</td>\n",
              "      <td>1</td>\n",
              "      <td>4</td>\n",
              "      <td>2019-06-22</td>\n",
              "      <td>2.31</td>\n",
              "      <td>5</td>\n",
              "      <td>160</td>\n",
              "    </tr>\n",
              "  </tbody>\n",
              "</table>\n",
              "</div>"
            ],
            "text/plain": [
              "       ListingID  ... AnnualAvailability\n",
              "13594   10166820  ...                 73\n",
              "19640   15726990  ...                  0\n",
              "14500   11419898  ...                312\n",
              "36590   29094342  ...                  0\n",
              "44753   34390645  ...                160\n",
              "\n",
              "[5 rows x 16 columns]"
            ]
          },
          "metadata": {
            "tags": []
          },
          "execution_count": 6
        }
      ]
    },
    {
      "cell_type": "markdown",
      "metadata": {
        "id": "mUDTVpicA9QD",
        "colab_type": "text"
      },
      "source": [
        "## Checking Data Statistics"
      ]
    },
    {
      "cell_type": "code",
      "metadata": {
        "id": "nZORZWNc79BN",
        "colab_type": "code",
        "outputId": "661c80f1-9c65-44a2-cee7-824e93510595",
        "colab": {
          "base_uri": "https://localhost:8080/",
          "height": 0
        }
      },
      "source": [
        "# Checking the statistical description of the dataset\n",
        "data.describe()"
      ],
      "execution_count": 7,
      "outputs": [
        {
          "output_type": "execute_result",
          "data": {
            "text/html": [
              "<div>\n",
              "<style scoped>\n",
              "    .dataframe tbody tr th:only-of-type {\n",
              "        vertical-align: middle;\n",
              "    }\n",
              "\n",
              "    .dataframe tbody tr th {\n",
              "        vertical-align: top;\n",
              "    }\n",
              "\n",
              "    .dataframe thead th {\n",
              "        text-align: right;\n",
              "    }\n",
              "</style>\n",
              "<table border=\"1\" class=\"dataframe\">\n",
              "  <thead>\n",
              "    <tr style=\"text-align: right;\">\n",
              "      <th></th>\n",
              "      <th>ListingID</th>\n",
              "      <th>HostID</th>\n",
              "      <th>Lattitude</th>\n",
              "      <th>Longitude</th>\n",
              "      <th>Price($)</th>\n",
              "      <th>MinimumNights</th>\n",
              "      <th>NumberOfReviews</th>\n",
              "      <th>ReviewsPerMonth</th>\n",
              "      <th>ListingsPerHost</th>\n",
              "      <th>AnnualAvailability</th>\n",
              "    </tr>\n",
              "  </thead>\n",
              "  <tbody>\n",
              "    <tr>\n",
              "      <th>count</th>\n",
              "      <td>4.889500e+04</td>\n",
              "      <td>4.889500e+04</td>\n",
              "      <td>48895.000000</td>\n",
              "      <td>48895.000000</td>\n",
              "      <td>48895.000000</td>\n",
              "      <td>48895.000000</td>\n",
              "      <td>48895.000000</td>\n",
              "      <td>38843.000000</td>\n",
              "      <td>48895.000000</td>\n",
              "      <td>48895.000000</td>\n",
              "    </tr>\n",
              "    <tr>\n",
              "      <th>mean</th>\n",
              "      <td>1.901714e+07</td>\n",
              "      <td>6.762001e+07</td>\n",
              "      <td>40.728949</td>\n",
              "      <td>-73.952170</td>\n",
              "      <td>152.720687</td>\n",
              "      <td>7.029962</td>\n",
              "      <td>23.274466</td>\n",
              "      <td>1.373221</td>\n",
              "      <td>7.143982</td>\n",
              "      <td>112.781327</td>\n",
              "    </tr>\n",
              "    <tr>\n",
              "      <th>std</th>\n",
              "      <td>1.098311e+07</td>\n",
              "      <td>7.861097e+07</td>\n",
              "      <td>0.054530</td>\n",
              "      <td>0.046157</td>\n",
              "      <td>240.154170</td>\n",
              "      <td>20.510550</td>\n",
              "      <td>44.550582</td>\n",
              "      <td>1.680442</td>\n",
              "      <td>32.952519</td>\n",
              "      <td>131.622289</td>\n",
              "    </tr>\n",
              "    <tr>\n",
              "      <th>min</th>\n",
              "      <td>2.539000e+03</td>\n",
              "      <td>2.438000e+03</td>\n",
              "      <td>40.499790</td>\n",
              "      <td>-74.244420</td>\n",
              "      <td>0.000000</td>\n",
              "      <td>1.000000</td>\n",
              "      <td>0.000000</td>\n",
              "      <td>0.010000</td>\n",
              "      <td>1.000000</td>\n",
              "      <td>0.000000</td>\n",
              "    </tr>\n",
              "    <tr>\n",
              "      <th>25%</th>\n",
              "      <td>9.471945e+06</td>\n",
              "      <td>7.822033e+06</td>\n",
              "      <td>40.690100</td>\n",
              "      <td>-73.983070</td>\n",
              "      <td>69.000000</td>\n",
              "      <td>1.000000</td>\n",
              "      <td>1.000000</td>\n",
              "      <td>0.190000</td>\n",
              "      <td>1.000000</td>\n",
              "      <td>0.000000</td>\n",
              "    </tr>\n",
              "    <tr>\n",
              "      <th>50%</th>\n",
              "      <td>1.967728e+07</td>\n",
              "      <td>3.079382e+07</td>\n",
              "      <td>40.723070</td>\n",
              "      <td>-73.955680</td>\n",
              "      <td>106.000000</td>\n",
              "      <td>3.000000</td>\n",
              "      <td>5.000000</td>\n",
              "      <td>0.720000</td>\n",
              "      <td>1.000000</td>\n",
              "      <td>45.000000</td>\n",
              "    </tr>\n",
              "    <tr>\n",
              "      <th>75%</th>\n",
              "      <td>2.915218e+07</td>\n",
              "      <td>1.074344e+08</td>\n",
              "      <td>40.763115</td>\n",
              "      <td>-73.936275</td>\n",
              "      <td>175.000000</td>\n",
              "      <td>5.000000</td>\n",
              "      <td>24.000000</td>\n",
              "      <td>2.020000</td>\n",
              "      <td>2.000000</td>\n",
              "      <td>227.000000</td>\n",
              "    </tr>\n",
              "    <tr>\n",
              "      <th>max</th>\n",
              "      <td>3.648724e+07</td>\n",
              "      <td>2.743213e+08</td>\n",
              "      <td>40.913060</td>\n",
              "      <td>-73.712990</td>\n",
              "      <td>10000.000000</td>\n",
              "      <td>1250.000000</td>\n",
              "      <td>629.000000</td>\n",
              "      <td>58.500000</td>\n",
              "      <td>327.000000</td>\n",
              "      <td>365.000000</td>\n",
              "    </tr>\n",
              "  </tbody>\n",
              "</table>\n",
              "</div>"
            ],
            "text/plain": [
              "          ListingID        HostID  ...  ListingsPerHost  AnnualAvailability\n",
              "count  4.889500e+04  4.889500e+04  ...     48895.000000        48895.000000\n",
              "mean   1.901714e+07  6.762001e+07  ...         7.143982          112.781327\n",
              "std    1.098311e+07  7.861097e+07  ...        32.952519          131.622289\n",
              "min    2.539000e+03  2.438000e+03  ...         1.000000            0.000000\n",
              "25%    9.471945e+06  7.822033e+06  ...         1.000000            0.000000\n",
              "50%    1.967728e+07  3.079382e+07  ...         1.000000           45.000000\n",
              "75%    2.915218e+07  1.074344e+08  ...         2.000000          227.000000\n",
              "max    3.648724e+07  2.743213e+08  ...       327.000000          365.000000\n",
              "\n",
              "[8 rows x 10 columns]"
            ]
          },
          "metadata": {
            "tags": []
          },
          "execution_count": 7
        }
      ]
    },
    {
      "cell_type": "markdown",
      "metadata": {
        "id": "T2eel-zCE7cy",
        "colab_type": "text"
      },
      "source": [
        "## Checking for Categorical Values"
      ]
    },
    {
      "cell_type": "code",
      "metadata": {
        "id": "oly5EdkhKxCw",
        "colab_type": "code",
        "colab": {
          "base_uri": "https://localhost:8080/",
          "height": 54
        },
        "outputId": "4089658b-18ee-448b-c671-a0ebf5c91b40"
      },
      "source": [
        "# function not required for this use case\n",
        "# def checkUniqueValues(columnName):\n",
        "#   list(columnName.unique())\n",
        "\n",
        "# Checking the categories in the columns\n",
        "print(list(data['RoomType'].unique()))\n",
        "print(list(data['Location'].unique()))"
      ],
      "execution_count": 17,
      "outputs": [
        {
          "output_type": "stream",
          "text": [
            "['Private room', 'Entire home/apt', 'Shared room']\n",
            "['Brooklyn', 'Manhattan', 'Queens', 'Staten Island', 'Bronx']\n"
          ],
          "name": "stdout"
        }
      ]
    },
    {
      "cell_type": "markdown",
      "metadata": {
        "id": "p32z95kw6hUl",
        "colab_type": "text"
      },
      "source": [
        "## Missing Values"
      ]
    },
    {
      "cell_type": "markdown",
      "metadata": {
        "id": "sKNq9LSgBDhR",
        "colab_type": "text"
      },
      "source": [
        "### Rough Look At Missing Values"
      ]
    },
    {
      "cell_type": "code",
      "metadata": {
        "id": "4GTs2vdk8QEU",
        "colab_type": "code",
        "outputId": "c001927c-b945-45ce-db19-e30eb2683997",
        "colab": {
          "base_uri": "https://localhost:8080/",
          "height": 675
        }
      },
      "source": [
        "# Graphical overview of the missing values\n",
        "missingno.matrix(data, figsize=(18,9))"
      ],
      "execution_count": 32,
      "outputs": [
        {
          "output_type": "execute_result",
          "data": {
            "text/plain": [
              "<matplotlib.axes._subplots.AxesSubplot at 0x7f776394cc50>"
            ]
          },
          "metadata": {
            "tags": []
          },
          "execution_count": 32
        },
        {
          "output_type": "display_data",
          "data": {
            "image/png": "[encoded data removed]",
            "text/plain": [
              "<Figure size 1296x648 with 2 Axes>"
            ]
          },
          "metadata": {
            "tags": []
          }
        }
      ]
    },
    {
      "cell_type": "markdown",
      "metadata": {
        "id": "vjVigDRDBJy6",
        "colab_type": "text"
      },
      "source": [
        "### Checking the Exact Amount of Missing Values"
      ]
    },
    {
      "cell_type": "code",
      "metadata": {
        "id": "GeJha52r_pMw",
        "colab_type": "code",
        "outputId": "4d287f03-290f-4773-964b-bdee53124a0a",
        "colab": {
          "base_uri": "https://localhost:8080/",
          "height": 109
        }
      },
      "source": [
        "# Checking the number of null values in the whole dataset\n",
        "totalNullValues = data.isna().sum()\n",
        "for index, value in totalNullValues.items():\n",
        "  if value > 0.00000000001:\n",
        "    print(f'{index}: {value}')"
      ],
      "execution_count": 30,
      "outputs": [
        {
          "output_type": "stream",
          "text": [
            "ListingName: 16\n",
            "HostName: 21\n",
            "Price($): 11\n",
            "LatestReview: 10052\n",
            "ReviewsPerMonth: 10052\n"
          ],
          "name": "stdout"
        }
      ]
    },
    {
      "cell_type": "code",
      "metadata": {
        "id": "j1Aac3Kt8nVZ",
        "colab_type": "code",
        "outputId": "7bb6eaf2-9d8e-4a2d-c400-a35001e86b38",
        "colab": {
          "base_uri": "https://localhost:8080/",
          "height": 54
        }
      },
      "source": [
        "# Checking the number of missing values in percentage.\n",
        "nullValuePercent = round(data.isna().sum()/data.shape[0]*100)\n",
        "for index, value in nullValuePercent.items():\n",
        "  if value > 0:\n",
        "    print(f'{index}: {value}%')"
      ],
      "execution_count": 31,
      "outputs": [
        {
          "output_type": "stream",
          "text": [
            "LatestReview: 21.0%\n",
            "ReviewsPerMonth: 21.0%\n"
          ],
          "name": "stdout"
        }
      ]
    },
    {
      "cell_type": "markdown",
      "metadata": {
        "id": "r3DhskVw6vuo",
        "colab_type": "text"
      },
      "source": [
        "### Handling Missing Values"
      ]
    },
    {
      "cell_type": "code",
      "metadata": {
        "id": "kYs0lpsy_uuy",
        "colab_type": "code",
        "colab": {
          "base_uri": "https://localhost:8080/",
          "height": 35
        },
        "outputId": "3bed560e-1991-4a2e-89ed-aad07d2a3250"
      },
      "source": [
        "[[data['Price($)']] == np.nan]"
      ],
      "execution_count": 47,
      "outputs": [
        {
          "output_type": "execute_result",
          "data": {
            "text/plain": [
              "[False]"
            ]
          },
          "metadata": {
            "tags": []
          },
          "execution_count": 47
        }
      ]
    },
    {
      "cell_type": "code",
      "metadata": {
        "id": "BP9J0E4g615J",
        "colab_type": "code",
        "colab": {}
      },
      "source": [
        "data['Price($)'].replace(0, np.nan, inplace=True)"
      ],
      "execution_count": 0,
      "outputs": []
    },
    {
      "cell_type": "code",
      "metadata": {
        "id": "yKWUNY1kBtwR",
        "colab_type": "code",
        "colab": {
          "base_uri": "https://localhost:8080/",
          "height": 237
        },
        "outputId": "c7ecd661-3b30-4db0-dc46-9a6076e88ec9"
      },
      "source": [
        "MeanPrice = data['Price($)'].mean()\n",
        "data['Price($)'].fillna(MeanPrice)"
      ],
      "execution_count": 50,
      "outputs": [
        {
          "output_type": "execute_result",
          "data": {
            "text/plain": [
              "0        149.0\n",
              "1        225.0\n",
              "2        150.0\n",
              "3         89.0\n",
              "4         80.0\n",
              "         ...  \n",
              "48890     70.0\n",
              "48891     40.0\n",
              "48892    115.0\n",
              "48893     55.0\n",
              "48894     90.0\n",
              "Name: Price($), Length: 48895, dtype: float64"
            ]
          },
          "metadata": {
            "tags": []
          },
          "execution_count": 50
        }
      ]
    },
    {
      "cell_type": "markdown",
      "metadata": {
        "id": "w99oIik2BzdV",
        "colab_type": "text"
      },
      "source": [
        "## Checking the Datatypes"
      ]
    },
    {
      "cell_type": "code",
      "metadata": {
        "id": "L_bGORYIAts3",
        "colab_type": "code",
        "outputId": "76994ada-7b2c-4224-c776-2bbd743ff0f5",
        "colab": {
          "base_uri": "https://localhost:8080/",
          "height": 0
        }
      },
      "source": [
        "# Checking the data type of the values in each column\n",
        "data.dtypes"
      ],
      "execution_count": 12,
      "outputs": [
        {
          "output_type": "execute_result",
          "data": {
            "text/plain": [
              "ListingID               int64\n",
              "ListingName            object\n",
              "HostID                  int64\n",
              "HostName               object\n",
              "Location               object\n",
              "Area                   object\n",
              "Lattitude             float64\n",
              "Longitude             float64\n",
              "RoomType               object\n",
              "Price($)                int64\n",
              "MinimumNights           int64\n",
              "NumberOfReviews         int64\n",
              "LatestReview           object\n",
              "ReviewsPerMonth       float64\n",
              "ListingsPerHost         int64\n",
              "AnnualAvailability      int64\n",
              "dtype: object"
            ]
          },
          "metadata": {
            "tags": []
          },
          "execution_count": 12
        }
      ]
    },
    {
      "cell_type": "markdown",
      "metadata": {
        "id": "IUKDCbtdE8LS",
        "colab_type": "text"
      },
      "source": [
        "# Data Visualizations"
      ]
    },
    {
      "cell_type": "code",
      "metadata": {
        "id": "XBjoS3WkB70u",
        "colab_type": "code",
        "outputId": "7cc82423-be76-4f68-ea97-fa85feec31ba",
        "colab": {
          "base_uri": "https://localhost:8080/",
          "height": 153
        }
      },
      "source": [
        "data.sample(1)"
      ],
      "execution_count": 13,
      "outputs": [
        {
          "output_type": "execute_result",
          "data": {
            "text/html": [
              "<div>\n",
              "<style scoped>\n",
              "    .dataframe tbody tr th:only-of-type {\n",
              "        vertical-align: middle;\n",
              "    }\n",
              "\n",
              "    .dataframe tbody tr th {\n",
              "        vertical-align: top;\n",
              "    }\n",
              "\n",
              "    .dataframe thead th {\n",
              "        text-align: right;\n",
              "    }\n",
              "</style>\n",
              "<table border=\"1\" class=\"dataframe\">\n",
              "  <thead>\n",
              "    <tr style=\"text-align: right;\">\n",
              "      <th></th>\n",
              "      <th>ListingID</th>\n",
              "      <th>ListingName</th>\n",
              "      <th>HostID</th>\n",
              "      <th>HostName</th>\n",
              "      <th>Location</th>\n",
              "      <th>Area</th>\n",
              "      <th>Lattitude</th>\n",
              "      <th>Longitude</th>\n",
              "      <th>RoomType</th>\n",
              "      <th>Price($)</th>\n",
              "      <th>MinimumNights</th>\n",
              "      <th>NumberOfReviews</th>\n",
              "      <th>LatestReview</th>\n",
              "      <th>ReviewsPerMonth</th>\n",
              "      <th>ListingsPerHost</th>\n",
              "      <th>AnnualAvailability</th>\n",
              "    </tr>\n",
              "  </thead>\n",
              "  <tbody>\n",
              "    <tr>\n",
              "      <th>27433</th>\n",
              "      <td>21628183</td>\n",
              "      <td>Cozy Manhattan male room for a long term IV</td>\n",
              "      <td>39528519</td>\n",
              "      <td>Max</td>\n",
              "      <td>Manhattan</td>\n",
              "      <td>Lower East Side</td>\n",
              "      <td>40.71165</td>\n",
              "      <td>-73.98708</td>\n",
              "      <td>Shared room</td>\n",
              "      <td>33</td>\n",
              "      <td>100</td>\n",
              "      <td>2</td>\n",
              "      <td>2019-01-03</td>\n",
              "      <td>0.11</td>\n",
              "      <td>28</td>\n",
              "      <td>201</td>\n",
              "    </tr>\n",
              "  </tbody>\n",
              "</table>\n",
              "</div>"
            ],
            "text/plain": [
              "       ListingID  ... AnnualAvailability\n",
              "27433   21628183  ...                201\n",
              "\n",
              "[1 rows x 16 columns]"
            ]
          },
          "metadata": {
            "tags": []
          },
          "execution_count": 13
        }
      ]
    },
    {
      "cell_type": "markdown",
      "metadata": {
        "id": "e-g5q3LN1fNX",
        "colab_type": "text"
      },
      "source": [
        "## Average Price in the 5 Boroughs"
      ]
    },
    {
      "cell_type": "code",
      "metadata": {
        "id": "KHgCMKh-JSqN",
        "colab_type": "code",
        "outputId": "8de67115-cb4f-453a-903f-99b71f9227df",
        "colab": {
          "base_uri": "https://localhost:8080/",
          "height": 575
        }
      },
      "source": [
        "plt.figure(figsize=(15,9))\n",
        "sns.barplot(x='Location', y='Price($)', data=data)\n",
        "# plt.savefig('PricesPerLocation.png')"
      ],
      "execution_count": 51,
      "outputs": [
        {
          "output_type": "execute_result",
          "data": {
            "text/plain": [
              "<matplotlib.axes._subplots.AxesSubplot at 0x7f775f7ee278>"
            ]
          },
          "metadata": {
            "tags": []
          },
          "execution_count": 51
        },
        {
          "output_type": "display_data",
          "data": {
            "image/png": "[encoded data removed]",
            "text/plain": [
              "<Figure size 1080x648 with 1 Axes>"
            ]
          },
          "metadata": {
            "tags": []
          }
        }
      ]
    },
    {
      "cell_type": "code",
      "metadata": {
        "id": "ya1C17HUDw68",
        "colab_type": "code",
        "colab": {
          "base_uri": "https://localhost:8080/",
          "height": 557
        },
        "outputId": "2f99cd39-de16-40dd-9084-44a80a569ce6"
      },
      "source": [
        "plt.figure(figsize=(15,9))\n",
        "sns.barplot(x='Location', y='NumberOfReviews', data=data)\n",
        "# plt.savefig('ReviewsPerLocation.png')"
      ],
      "execution_count": 60,
      "outputs": [
        {
          "output_type": "display_data",
          "data": {
            "image/png": "[encoded data removed]",
            "text/plain": [
              "<Figure size 1080x648 with 1 Axes>"
            ]
          },
          "metadata": {
            "tags": []
          }
        }
      ]
    },
    {
      "cell_type": "code",
      "metadata": {
        "id": "Q6FrkOFPEaHM",
        "colab_type": "code",
        "colab": {
          "base_uri": "https://localhost:8080/",
          "height": 557
        },
        "outputId": "e9362661-b820-497a-da21-11d974440a16"
      },
      "source": [
        "plt.figure(figsize=(15,9))\n",
        "sns.barplot(x='Location', y='AnnualAvailability', data=data)\n",
        "# plt.savefig('AnnualAvailablityPerLocation.png')"
      ],
      "execution_count": 61,
      "outputs": [
        {
          "output_type": "display_data",
          "data": {
            "image/png": "[encoded data removed]",
            "text/plain": [
              "<Figure size 1080x648 with 1 Axes>"
            ]
          },
          "metadata": {
            "tags": []
          }
        }
      ]
    },
    {
      "cell_type": "code",
      "metadata": {
        "id": "rCbQe8xAFVuh",
        "colab_type": "code",
        "colab": {
          "base_uri": "https://localhost:8080/",
          "height": 557
        },
        "outputId": "8af2b239-9485-4453-e2eb-448f57523c21"
      },
      "source": [
        "plt.figure(figsize=(15,9))\n",
        "sns.barplot(x='Location', y='ReviewsPerMonth', data=data)\n",
        "# plt.savefig('NumberOfReviewsPerLocation.png')"
      ],
      "execution_count": 62,
      "outputs": [
        {
          "output_type": "display_data",
          "data": {
            "image/png": "[encoded data removed]",
            "text/plain": [
              "<Figure size 1080x648 with 1 Axes>"
            ]
          },
          "metadata": {
            "tags": []
          }
        }
      ]
    },
    {
      "cell_type": "markdown",
      "metadata": {
        "id": "aEScyEh_pobB",
        "colab_type": "text"
      },
      "source": [
        "# TODO\n",
        "\n",
        "- Read up on Python functions **(IMPORTANT)**\n",
        "  - Make functions to dynamically select the data and the visualization.\n",
        "- Learn Seaborn.\n",
        "- ~Make datasets load dynamically from GDrive according to the mimetypes.~ ***Not worth for this use case***\n",
        "- ~Change Seaborn graph sizes.~\n",
        "- ~Create a function to make categorical variables, graphs, etc dynamically.~ ***Not worth for this use case***\n",
        "- ~Learn about Pandas `groupby` to work on grouping based on `Location` & then proceed with further visualizations.~"
      ]
    }
  ]
}